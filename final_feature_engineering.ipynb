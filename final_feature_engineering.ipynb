{
  "nbformat": 4,
  "nbformat_minor": 0,
  "metadata": {
    "colab": {
      "provenance": [],
      "machine_shape": "hm",
      "authorship_tag": "ABX9TyMKSwBpsCE/S5nYL3lPMUHH",
      "include_colab_link": true
    },
    "kernelspec": {
      "name": "python3",
      "display_name": "Python 3"
    },
    "language_info": {
      "name": "python"
    }
  },
  "cells": [
    {
      "cell_type": "markdown",
      "metadata": {
        "id": "view-in-github",
        "colab_type": "text"
      },
      "source": [
        "<a href=\"https://colab.research.google.com/github/Tiru-Kaggundi/Trade_AI/blob/main/final_feature_engineering.ipynb\" target=\"_parent\"><img src=\"https://colab.research.google.com/assets/colab-badge.svg\" alt=\"Open In Colab\"/></a>"
      ]
    },
    {
      "cell_type": "code",
      "source": [
        "# Colab mount\n",
        "\n",
        "from google.colab import drive\n",
        "drive.mount('/content/drive')\n"
      ],
      "metadata": {
        "colab": {
          "base_uri": "https://localhost:8080/"
        },
        "id": "T_NDk0MUQ1l8",
        "outputId": "71b31b21-b705-4213-c350-060f509e709b"
      },
      "execution_count": 1,
      "outputs": [
        {
          "output_type": "stream",
          "name": "stdout",
          "text": [
            "Mounted at /content/drive\n"
          ]
        }
      ]
    },
    {
      "cell_type": "code",
      "source": [
        "# ===== Cell 0: Config & Imports =====\n",
        "import os\n",
        "import gc\n",
        "import numpy as np\n",
        "import pandas as pd\n",
        "\n",
        "pd.options.display.float_format = \"{:,.4f}\".format\n",
        "\n",
        "# ---- Paths (adjust to your Drive layout if needed) ----\n",
        "BASE_DIR = '/content/drive/MyDrive/ai4trade'  # <-- change if your root is different\n",
        "DATA_INTERIM = f\"{BASE_DIR}/data/interim\"\n",
        "DATA_FEATURES = f\"{BASE_DIR}/data/features\"\n",
        "\n",
        "# Input harmonized parquet (HS6-level; already partner-filtered 30/30/30/40)\n",
        "HARMONIZED = f\"{DATA_INTERIM}/final_clean_data.parquet\"\n",
        "\n",
        "# External macro (with columns: month, china_GSCPI_ma2, usa_GSCPI_ma2, chinaCLI_ma2, usaCLI_ma2)\n",
        "MACRO_FILE = f\"{DATA_INTERIM}/GSCPI_CLI.xlsx\"\n",
        "\n",
        "# Outputs\n",
        "OUT_CHN_EXP = f\"{DATA_FEATURES}/features_CHN_export.parquet\"\n",
        "OUT_CHN_IMP = f\"{DATA_FEATURES}/features_CHN_import.parquet\"\n",
        "OUT_USA_EXP = f\"{DATA_FEATURES}/features_USA_export.parquet\"\n",
        "OUT_USA_IMP = f\"{DATA_FEATURES}/features_USA_import.parquet\"\n",
        "OUT_ALL     = f\"{DATA_FEATURES}/features_all_unified.parquet\"\n",
        "\n",
        "os.makedirs(DATA_FEATURES, exist_ok=True)"
      ],
      "metadata": {
        "id": "AlG5Fan3bRk4"
      },
      "execution_count": 2,
      "outputs": []
    },
    {
      "cell_type": "code",
      "source": [
        "# ===== Cell 1: Load & Basic Hygiene =====\n",
        "df = pd.read_parquet(HARMONIZED)\n",
        "\n",
        "# expected columns: origin, destination, hs6, hs4, trade_flow, month, value\n",
        "# standardize dtypes and names\n",
        "df = df.rename(columns={\"value\": \"y\"}).copy()\n",
        "\n",
        "df[\"origin\"] = df[\"origin\"].astype(str)\n",
        "df[\"destination\"] = df[\"destination\"].astype(str)\n",
        "df[\"trade_flow\"] = df[\"trade_flow\"].astype(str)\n",
        "df[\"hs6\"] = df[\"hs6\"].astype(str).str.zfill(6)\n",
        "# ensure hs4 present and consistent\n",
        "if \"hs4\" not in df.columns:\n",
        "    df[\"hs4\"] = df[\"hs6\"].str[:4]\n",
        "else:\n",
        "    df[\"hs4\"] = df[\"hs4\"].astype(str).str.zfill(4)\n",
        "\n",
        "# month to first-of-month datetime\n",
        "df[\"month\"] = pd.to_datetime(df[\"month\"]).dt.to_period(\"M\").dt.to_timestamp()\n",
        "\n",
        "# sort for all subsequent groupby/shift ops\n",
        "df = df.sort_values([\"origin\", \"destination\", \"hs6\", \"trade_flow\", \"month\"]).reset_index(drop=True)\n",
        "\n",
        "print(df.head(3))"
      ],
      "metadata": {
        "colab": {
          "base_uri": "https://localhost:8080/"
        },
        "id": "lVgB6bCYbRg_",
        "outputId": "c3c84a31-c96a-42d7-a77a-655482b38c6f"
      },
      "execution_count": 3,
      "outputs": [
        {
          "output_type": "stream",
          "name": "stdout",
          "text": [
            "  origin destination     hs6   hs4 trade_flow      month    y\n",
            "0    CHN         ARE  010619  0106     Export 2023-02-01  200\n",
            "1    CHN         ARE  010619  0106     Export 2023-07-01  600\n",
            "2    CHN         ARE  010619  0106     Export 2023-08-01  300\n"
          ]
        }
      ]
    },
    {
      "cell_type": "code",
      "source": [
        "# ===== Cell 2: Calendar / Seasonality Features =====\n",
        "df[\"year\"] = df[\"month\"].dt.year.astype(\"int16\")\n",
        "df[\"month_num\"] = df[\"month\"].dt.month.astype(\"int8\")\n",
        "df[\"quarter\"] = df[\"month\"].dt.quarter.astype(\"int8\")\n",
        "\n",
        "# cyclical encodings (12-month cycle)\n",
        "df[\"month_sin\"] = np.sin(2 * np.pi * df[\"month_num\"] / 12.0)\n",
        "df[\"month_cos\"] = np.cos(2 * np.pi * df[\"month_num\"] / 12.0)\n",
        "\n",
        "# sequential month index per series or global? — use global index for trend\n",
        "df = df.sort_values(\"month\").reset_index(drop=True)\n",
        "# month_id as global running index starting at 0\n",
        "month_mapping = {m:i for i, m in enumerate(sorted(df[\"month\"].unique()))}\n",
        "df[\"month_id\"] = df[\"month\"].map(month_mapping).astype(\"int32\")"
      ],
      "metadata": {
        "id": "ai4c3KUObRep"
      },
      "execution_count": 4,
      "outputs": []
    },
    {
      "cell_type": "code",
      "source": [
        "# ===== Cell 3: Bilateral Lags & Rolling Stats =====\n",
        "KEY = [\"origin\", \"destination\", \"hs6\", \"trade_flow\"]\n",
        "\n",
        "g = df.groupby(KEY, group_keys=False)\n",
        "\n",
        "# basic lags\n",
        "for L in [1, 2, 3, 6, 12, 9, 10]:  # 9/10 for helper; we'll compress to lag_year_eq later\n",
        "    df[f\"lag_{L}\"] = g[\"y\"].shift(L)\n",
        "\n",
        "# ===== Fixed: Bilateral Rolling Features using transform =====\n",
        "# Rolling means (<= t−1)\n",
        "df[\"ma_3\"]  = g[\"y\"].transform(lambda s: s.shift(1).rolling(3, min_periods=1).mean())\n",
        "df[\"ma_6\"]  = g[\"y\"].transform(lambda s: s.shift(1).rolling(6, min_periods=1).mean())\n",
        "df[\"ma_12\"] = g[\"y\"].transform(lambda s: s.shift(1).rolling(12, min_periods=1).mean())\n",
        "\n",
        "# Volatility (6-month std, ≤ t−1)\n",
        "df[\"roll_std_6\"] = g[\"y\"].transform(lambda s: s.shift(1).rolling(6, min_periods=2).std())\n",
        "\n",
        "# momentum\n",
        "df[\"pctchg_1\"] = (df[\"y\"] - df[\"lag_1\"]) / df[\"lag_1\"].replace(0, np.nan)\n",
        "df[\"pctchg_3\"] = (df[\"y\"] - df[\"lag_3\"]) / df[\"lag_3\"].replace(0, np.nan)\n",
        "\n",
        "# activity/inactivity flags\n",
        "df[\"was_trade_lag1\"] = (df[\"lag_1\"].fillna(0) > 0).astype(\"int8\")"
      ],
      "metadata": {
        "id": "70x5fHZ9bRb3"
      },
      "execution_count": 5,
      "outputs": []
    },
    {
      "cell_type": "code",
      "source": [
        "# ===== Cell 4: Last-year-equivalent lag =====\n",
        "df[\"lag_year_eq\"] = np.where(df[\"origin\"].eq(\"USA\"), df[\"lag_9\"], df[\"lag_10\"])\n",
        "\n",
        "# drop helper lag_9/lag_10 to keep schema tidy\n",
        "df = df.drop(columns=[\"lag_9\", \"lag_10\"])"
      ],
      "metadata": {
        "id": "KFNH0EabbRXL"
      },
      "execution_count": 6,
      "outputs": []
    },
    {
      "cell_type": "code",
      "source": [
        "# ===== Fixed: Cross-Flow (HS4-level, Opposite Flow) =====\n",
        "# 1) Compute origin–month–HS4 totals by flow\n",
        "totals = (\n",
        "    df.groupby([\"origin\", \"hs4\", \"trade_flow\", \"month\"], as_index=False)[\"y\"]\n",
        "      .sum()\n",
        "      .rename(columns={\"y\": \"flow_total\"})\n",
        ")\n",
        "\n",
        "# 2) Define opposite flow (Export ↔ Import)\n",
        "totals[\"opposite_flow\"] = np.where(totals[\"trade_flow\"].eq(\"Export\"), \"Import\", \"Export\")\n",
        "\n",
        "# 3) Compute MA3 of flow_total per (origin, hs4, trade_flow) using transform (no reset_index!)\n",
        "totals = totals.sort_values([\"origin\", \"hs4\", \"trade_flow\", \"month\"])\n",
        "g_hs4 = totals.groupby([\"origin\", \"hs4\", \"trade_flow\"], group_keys=False)\n",
        "\n",
        "totals[\"flow_total_ma3\"] = g_hs4[\"flow_total\"].transform(\n",
        "    lambda s: s.shift(1).rolling(3, min_periods=1).mean()\n",
        ")\n",
        "\n",
        "# 4) Prepare tidy cross-flow table for merge\n",
        "#    We only need one trade_flow column — the one representing the flow to match on.\n",
        "cf = (\n",
        "    totals.rename(columns={\n",
        "        \"opposite_flow\": \"trade_flow_to_match\",\n",
        "        \"flow_total_ma3\": \"cross_flow_ma3\"\n",
        "    })[[\"origin\", \"hs4\", \"month\", \"trade_flow_to_match\", \"cross_flow_ma3\"]]\n",
        "    .rename(columns={\"trade_flow_to_match\": \"trade_flow\"})\n",
        ")\n",
        "\n",
        "# 5) Merge back to bilateral rows\n",
        "df = df.merge(cf, on=[\"origin\", \"hs4\", \"month\", \"trade_flow\"], how=\"left\")"
      ],
      "metadata": {
        "id": "Yq0ZVq1LbRRq"
      },
      "execution_count": 7,
      "outputs": []
    },
    {
      "cell_type": "code",
      "source": [
        "# ===== Cell 6: Origin-level Totals & Drift =====\n",
        "# compute monthly origin totals per flow\n",
        "origin_tot = (\n",
        "    df.groupby([\"origin\", \"trade_flow\", \"month\"], as_index=False)[\"y\"]\n",
        "      .sum()\n",
        "      .rename(columns={\"y\": \"origin_flow_total\"})\n",
        ")\n",
        "\n",
        "# pivot to two columns per month: exports & imports\n",
        "orig_piv = origin_tot.pivot_table(index=[\"origin\", \"month\"], columns=\"trade_flow\", values=\"origin_flow_total\").reset_index()\n",
        "orig_piv = orig_piv.rename(columns={\"Export\": \"origin_total_exports\", \"Import\": \"origin_total_imports\"})\n",
        "orig_piv[\"origin_total_trade\"] = orig_piv[[\"origin_total_exports\", \"origin_total_imports\"]].sum(axis=1)\n",
        "\n",
        "# lags and MA3 per origin\n",
        "g_o = orig_piv.groupby(\"origin\", group_keys=False)\n",
        "for col in [\"origin_total_exports\", \"origin_total_imports\", \"origin_total_trade\"]:\n",
        "    orig_piv[col + \"_lag1\"] = g_o[col].shift(1)\n",
        "for col in [\"origin_total_exports\", \"origin_total_imports\"]:\n",
        "    orig_piv[col + \"_ma3\"] = g_o[col].shift(1).rolling(3, min_periods=1).mean()\n",
        "\n",
        "keep_cols = [\n",
        "    \"origin\",\"month\",\n",
        "    \"origin_total_exports_lag1\",\"origin_total_imports_lag1\",\"origin_total_trade_lag1\",\n",
        "    \"origin_total_exports_ma3\",\"origin_total_imports_ma3\"\n",
        "]\n",
        "orig_feats = orig_piv[keep_cols].copy()\n",
        "\n",
        "# join back to main df\n",
        "df = df.merge(orig_feats, on=[\"origin\",\"month\"], how=\"left\")"
      ],
      "metadata": {
        "id": "GoyOWdHnc-t3"
      },
      "execution_count": 8,
      "outputs": []
    },
    {
      "cell_type": "code",
      "source": [
        "# ===== Cell 7: External Macro Join (Excel version) =====\n",
        "# file: ai4trade/data/interim/GSCPI_CLI.xlsx\n",
        "# expected sheet: first sheet or specify name if needed\n",
        "# columns: month, china_GSCPI_ma2, usa_GSCPI_ma2, chinaCLI_ma2, usaCLI_ma2\n",
        "\n",
        "macro = pd.read_excel(f\"{DATA_INTERIM}/GSCPI_CLI.xlsx\")\n",
        "\n",
        "# enforce proper datetime (first day of month)\n",
        "macro[\"month\"] = pd.to_datetime(macro[\"month\"]).dt.to_period(\"M\").dt.to_timestamp()\n",
        "\n",
        "# keep only the required columns in correct order\n",
        "macro_cols_expected = [\"china_GSCPI_ma2\", \"usa_GSCPI_ma2\", \"chinaCLI_ma2\", \"usaCLI_ma2\"]\n",
        "macro_cols = [\"month\"] + [c for c in macro_cols_expected if c in macro.columns]\n",
        "macro = macro[macro_cols].copy()\n",
        "\n",
        "# merge to main dataframe by month\n",
        "df = df.merge(macro, on=\"month\", how=\"left\")\n",
        "\n",
        "print(\"✅ Macro data merged — columns now include:\", [c for c in df.columns if \"ma2\" in c or \"CLI\" in c])"
      ],
      "metadata": {
        "colab": {
          "base_uri": "https://localhost:8080/"
        },
        "id": "LS68RPv8c-q4",
        "outputId": "cb01477a-2f0d-480b-f401-7cfa17614d4b"
      },
      "execution_count": 9,
      "outputs": [
        {
          "output_type": "stream",
          "name": "stdout",
          "text": [
            "✅ Macro data merged — columns now include: ['china_GSCPI_ma2', 'usa_GSCPI_ma2', 'chinaCLI_ma2', 'usaCLI_ma2']\n"
          ]
        }
      ]
    },
    {
      "cell_type": "code",
      "source": [
        "# ===== Cell 8: Direct Horizon Policy & y_target =====\n",
        "# horizon: CHN -> 2, USA -> 3\n",
        "df[\"forecast_horizon\"] = np.where(df[\"origin\"].eq(\"CHN\"), 2, 3).astype(\"int8\")\n",
        "\n",
        "# y_target = y(t + h) within each bilateral series\n",
        "def make_target(sub):\n",
        "    h = int(sub[\"forecast_horizon\"].iloc[0])\n",
        "    sub = sub.sort_values(\"month\").copy()\n",
        "    sub[\"y_target\"] = sub[\"y\"].shift(-h)\n",
        "    return sub\n",
        "\n",
        "df = df.groupby([\"origin\",\"destination\",\"hs6\",\"trade_flow\"], group_keys=False).apply(make_target)\n",
        "\n",
        "# drop rows without target (end-of-series where future isn't observed)\n",
        "df = df[~df[\"y_target\"].isna()].reset_index(drop=True)"
      ],
      "metadata": {
        "colab": {
          "base_uri": "https://localhost:8080/"
        },
        "id": "jD4k_gJCdEm0",
        "outputId": "e75ec42a-f8b8-47fc-fec3-4488d89fecae"
      },
      "execution_count": 10,
      "outputs": [
        {
          "output_type": "stream",
          "name": "stderr",
          "text": [
            "/tmp/ipython-input-400366286.py:12: DeprecationWarning: DataFrameGroupBy.apply operated on the grouping columns. This behavior is deprecated, and in a future version of pandas the grouping columns will be excluded from the operation. Either pass `include_groups=False` to exclude the groupings or explicitly select the grouping columns after groupby to silence this warning.\n",
            "  df = df.groupby([\"origin\",\"destination\",\"hs6\",\"trade_flow\"], group_keys=False).apply(make_target)\n"
          ]
        }
      ]
    },
    {
      "cell_type": "code",
      "source": [
        "# ===== Cell 9: Cleanup & Column Order =====\n",
        "# clip small negatives to zero (safety), but don't touch NaNs\n",
        "for col in [\"y\", \"lag_1\",\"lag_2\",\"lag_3\",\"lag_6\",\"lag_12\",\"lag_year_eq\",\"ma_3\",\"ma_6\",\"ma_12\",\n",
        "            \"roll_std_6\",\"cross_flow_ma3\",\n",
        "            \"origin_total_exports_lag1\",\"origin_total_imports_lag1\",\"origin_total_trade_lag1\",\n",
        "            \"origin_total_exports_ma3\",\"origin_total_imports_ma3\"]:\n",
        "    if col in df.columns:\n",
        "        df[col] = df[col].where(df[col].isna() | (df[col] >= 0), 0.0)\n",
        "\n",
        "FINAL_ORDER = [\n",
        "    # IDs\n",
        "    \"origin\",\"destination\",\"hs6\",\"hs4\",\"trade_flow\",\"month\",\"y\",\n",
        "    # calendar\n",
        "    \"year\",\"month_num\",\"quarter\",\"month_sin\",\"month_cos\",\"month_id\",\n",
        "    # bilateral\n",
        "    \"lag_1\",\"lag_2\",\"lag_3\",\"lag_6\",\"lag_12\",\"lag_year_eq\",\n",
        "    \"ma_3\",\"ma_6\",\"ma_12\",\"roll_std_6\",\"pctchg_1\",\"pctchg_3\",\"was_trade_lag1\",\"consec_zero_run\",\n",
        "    # cross-flow\n",
        "    \"cross_flow_ma3\",\n",
        "    # origin totals\n",
        "    \"origin_total_exports_lag1\",\"origin_total_imports_lag1\",\"origin_total_trade_lag1\",\n",
        "    \"origin_total_exports_ma3\",\"origin_total_imports_ma3\",\n",
        "    # external macro (all four retained)\n",
        "    \"china_GSCPI_ma2\",\"usa_GSCPI_ma2\",\"chinaCLI_ma2\",\"usaCLI_ma2\",\n",
        "    # meta\n",
        "    \"forecast_horizon\",\"y_target\"\n",
        "]\n",
        "# keep only columns that exist to avoid KeyError if any optional missing\n",
        "FINAL_ORDER = [c for c in FINAL_ORDER if c in df.columns]\n",
        "df = df[FINAL_ORDER].copy()\n",
        "\n",
        "df.info(show_counts=True)"
      ],
      "metadata": {
        "colab": {
          "base_uri": "https://localhost:8080/"
        },
        "id": "ON3rNrVHdEkG",
        "outputId": "ea0ce59f-8a15-47b0-9140-8f5a47f78cd6"
      },
      "execution_count": 11,
      "outputs": [
        {
          "output_type": "stream",
          "name": "stdout",
          "text": [
            "<class 'pandas.core.frame.DataFrame'>\n",
            "RangeIndex: 8136805 entries, 0 to 8136804\n",
            "Data columns (total 38 columns):\n",
            " #   Column                     Non-Null Count    Dtype         \n",
            "---  ------                     --------------    -----         \n",
            " 0   origin                     8136805 non-null  object        \n",
            " 1   destination                8136805 non-null  object        \n",
            " 2   hs6                        8136805 non-null  object        \n",
            " 3   hs4                        8136805 non-null  object        \n",
            " 4   trade_flow                 8136805 non-null  object        \n",
            " 5   month                      8136805 non-null  datetime64[ns]\n",
            " 6   y                          8136805 non-null  int64         \n",
            " 7   year                       8136805 non-null  int16         \n",
            " 8   month_num                  8136805 non-null  int8          \n",
            " 9   quarter                    8136805 non-null  int8          \n",
            " 10  month_sin                  8136805 non-null  float64       \n",
            " 11  month_cos                  8136805 non-null  float64       \n",
            " 12  month_id                   8136805 non-null  int32         \n",
            " 13  lag_1                      7750936 non-null  float64       \n",
            " 14  lag_2                      7374667 non-null  float64       \n",
            " 15  lag_3                      7006670 non-null  float64       \n",
            " 16  lag_6                      5948722 non-null  float64       \n",
            " 17  lag_12                     4043174 non-null  float64       \n",
            " 18  lag_year_eq                4817720 non-null  float64       \n",
            " 19  ma_3                       7750936 non-null  float64       \n",
            " 20  ma_6                       7750936 non-null  float64       \n",
            " 21  ma_12                      7750936 non-null  float64       \n",
            " 22  roll_std_6                 7374667 non-null  float64       \n",
            " 23  pctchg_1                   6813676 non-null  float64       \n",
            " 24  pctchg_3                   6215228 non-null  float64       \n",
            " 25  was_trade_lag1             8136805 non-null  int8          \n",
            " 26  cross_flow_ma3             7863113 non-null  float64       \n",
            " 27  origin_total_exports_lag1  7888223 non-null  float64       \n",
            " 28  origin_total_imports_lag1  7888223 non-null  float64       \n",
            " 29  origin_total_trade_lag1    7888223 non-null  float64       \n",
            " 30  origin_total_exports_ma3   8005386 non-null  float64       \n",
            " 31  origin_total_imports_ma3   8005386 non-null  float64       \n",
            " 32  china_GSCPI_ma2            8136805 non-null  float64       \n",
            " 33  usa_GSCPI_ma2              8136805 non-null  float64       \n",
            " 34  chinaCLI_ma2               8136805 non-null  float64       \n",
            " 35  usaCLI_ma2                 8136805 non-null  float64       \n",
            " 36  forecast_horizon           8136805 non-null  int8          \n",
            " 37  y_target                   8136805 non-null  float64       \n",
            "dtypes: datetime64[ns](1), float64(25), int16(1), int32(1), int64(1), int8(4), object(5)\n",
            "memory usage: 2.0+ GB\n"
          ]
        }
      ]
    },
    {
      "cell_type": "code",
      "source": [
        "# ===== Cell 10: Segment Saves + Unified =====\n",
        "is_CHN = df[\"origin\"].eq(\"CHN\")\n",
        "is_USA = df[\"origin\"].eq(\"USA\")\n",
        "is_EXP = df[\"trade_flow\"].eq(\"Export\")\n",
        "is_IMP = df[\"trade_flow\"].eq(\"Import\")\n",
        "\n",
        "df_chn_exp = df[is_CHN & is_EXP].copy()\n",
        "df_chn_imp = df[is_CHN & is_IMP].copy()\n",
        "df_usa_exp = df[is_USA & is_EXP].copy()\n",
        "df_usa_imp = df[is_USA & is_IMP].copy()\n",
        "\n",
        "df_chn_exp.to_parquet(OUT_CHN_EXP, index=False)\n",
        "df_chn_imp.to_parquet(OUT_CHN_IMP, index=False)\n",
        "df_usa_exp.to_parquet(OUT_USA_EXP, index=False)\n",
        "df_usa_imp.to_parquet(OUT_USA_IMP, index=False)\n",
        "\n",
        "df_all = pd.concat([df_chn_exp, df_chn_imp, df_usa_exp, df_usa_imp], axis=0, ignore_index=True)\n",
        "df_all.to_parquet(OUT_ALL, index=False)\n",
        "\n",
        "# quick sanity prints\n",
        "for path, d in [\n",
        "    (OUT_CHN_EXP, df_chn_exp),\n",
        "    (OUT_CHN_IMP, df_chn_imp),\n",
        "    (OUT_USA_EXP, df_usa_exp),\n",
        "    (OUT_USA_IMP, df_usa_imp),\n",
        "    (OUT_ALL,     df_all),\n",
        "]:\n",
        "    print(f\"{path} -> rows={len(d):,}, cols={d.shape[1]}\")\n",
        "\n",
        "del df_chn_exp, df_chn_imp, df_usa_exp, df_usa_imp, df_all\n",
        "gc.collect()"
      ],
      "metadata": {
        "colab": {
          "base_uri": "https://localhost:8080/"
        },
        "id": "l3qbaBQubQoc",
        "outputId": "5234f971-01f9-47bb-e1c4-e0d2bedb663b"
      },
      "execution_count": 12,
      "outputs": [
        {
          "output_type": "stream",
          "name": "stdout",
          "text": [
            "/content/drive/MyDrive/ai4trade/data/features/features_CHN_export.parquet -> rows=2,807,460, cols=38\n",
            "/content/drive/MyDrive/ai4trade/data/features/features_CHN_import.parquet -> rows=1,118,879, cols=38\n",
            "/content/drive/MyDrive/ai4trade/data/features/features_USA_export.parquet -> rows=2,257,793, cols=38\n",
            "/content/drive/MyDrive/ai4trade/data/features/features_USA_import.parquet -> rows=1,952,673, cols=38\n",
            "/content/drive/MyDrive/ai4trade/data/features/features_all_unified.parquet -> rows=8,136,805, cols=38\n"
          ]
        },
        {
          "output_type": "execute_result",
          "data": {
            "text/plain": [
              "0"
            ]
          },
          "metadata": {},
          "execution_count": 12
        }
      ]
    },
    {
      "cell_type": "code",
      "source": [
        "# ===== Cell 11: QC Checks =====\n",
        "# reload to ensure they wrote correctly\n",
        "chk = {\n",
        "    \"CHN_export\": pd.read_parquet(OUT_CHN_EXP),\n",
        "    \"CHN_import\": pd.read_parquet(OUT_CHN_IMP),\n",
        "    \"USA_export\": pd.read_parquet(OUT_USA_EXP),\n",
        "    \"USA_import\": pd.read_parquet(OUT_USA_IMP),\n",
        "}\n",
        "\n",
        "# 1) identical columns across segments\n",
        "cols_sets = {k: tuple(v.columns) for k, v in chk.items()}\n",
        "print(\"Column sets identical across segments:\",\n",
        "      len(set(cols_sets.values())) == 1)\n",
        "\n",
        "# 2) leakage check on a small sample: y_target month = month + horizon\n",
        "def leak_check(d, n=5):\n",
        "    s = d.sample(min(n, len(d)), random_state=42)\n",
        "    # group keys for computing month+h (requires knowing h per origin)\n",
        "    # here we just print sample context for manual eyeballing\n",
        "    return s[[\"origin\",\"destination\",\"hs6\",\"trade_flow\",\"month\",\"forecast_horizon\",\"y\",\"y_target\"]]\n",
        "\n",
        "print(leak_check(chk[\"CHN_export\"]))\n",
        "print(leak_check(chk[\"USA_import\"]))"
      ],
      "metadata": {
        "colab": {
          "base_uri": "https://localhost:8080/"
        },
        "id": "1OHFdFW1dKvC",
        "outputId": "eda413ba-ada7-42b1-dff1-f21f4103a75a"
      },
      "execution_count": 13,
      "outputs": [
        {
          "output_type": "stream",
          "name": "stdout",
          "text": [
            "Column sets identical across segments: True\n",
            "        origin destination     hs6 trade_flow      month  forecast_horizon  \\\n",
            "730744     CHN         SGP  731990     Export 2023-08-01                 2   \n",
            "1751830    CHN         FRA  721114     Export 2024-07-01                 2   \n",
            "2182209    CHN         THA  901310     Export 2024-11-01                 2   \n",
            "1166908    CHN         USA  610459     Export 2024-01-01                 2   \n",
            "207883     CHN         FRA  848291     Export 2023-03-01                 2   \n",
            "\n",
            "               y       y_target  \n",
            "730744   1007192   406,191.0000  \n",
            "1751830     7241     8,774.0000  \n",
            "2182209      699    17,000.0000  \n",
            "1166908  2277756 1,639,594.0000  \n",
            "207883   1191836   903,142.0000  \n",
            "        origin destination     hs6 trade_flow      month  forecast_horizon  \\\n",
            "307460     USA         IND  390910     Import 2023-05-01                 3   \n",
            "1879722    USA         CHN  090710     Import 2025-03-01                 3   \n",
            "931488     USA         BEL  610442     Import 2024-01-01                 3   \n",
            "266462     USA         CAN  680990     Import 2023-05-01                 3   \n",
            "797153     USA         TUR  530911     Import 2023-11-01                 3   \n",
            "\n",
            "               y       y_target  \n",
            "307460         0         0.0000  \n",
            "1879722    61000    29,000.0000  \n",
            "931488       767     2,202.0000  \n",
            "266462   3356210 2,189,089.0000  \n",
            "797153     36963    36,272.0000  \n"
          ]
        }
      ]
    }
  ]
}