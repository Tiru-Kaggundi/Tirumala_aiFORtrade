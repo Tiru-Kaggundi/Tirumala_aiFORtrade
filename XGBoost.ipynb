{
  "nbformat": 4,
  "nbformat_minor": 0,
  "metadata": {
    "colab": {
      "provenance": [],
      "authorship_tag": "ABX9TyPqGiC+Fs7n2GLi69dExjv3",
      "include_colab_link": true
    },
    "kernelspec": {
      "name": "python3",
      "display_name": "Python 3"
    },
    "language_info": {
      "name": "python"
    }
  },
  "cells": [
    {
      "cell_type": "markdown",
      "metadata": {
        "id": "view-in-github",
        "colab_type": "text"
      },
      "source": [
        "<a href=\"https://colab.research.google.com/github/Tiru-Kaggundi/Trade_AI/blob/main/XGBoost.ipynb\" target=\"_parent\"><img src=\"https://colab.research.google.com/assets/colab-badge.svg\" alt=\"Open In Colab\"/></a>"
      ]
    },
    {
      "cell_type": "code",
      "execution_count": null,
      "metadata": {
        "colab": {
          "base_uri": "https://localhost:8080/"
        },
        "id": "eldkcW_uALqE",
        "outputId": "83a86faf-a52d-471c-83c3-ef48cf269add"
      },
      "outputs": [
        {
          "output_type": "stream",
          "name": "stdout",
          "text": [
            "Mounted at /content/drive\n"
          ]
        }
      ],
      "source": [
        "from google.colab import drive  # noqa: F401\n",
        "drive.mount('/content/drive')"
      ]
    },
    {
      "cell_type": "code",
      "source": [
        "import os, json, gc, numpy as np, pandas as pd\n",
        "from datetime import datetime\n",
        "from sklearn.model_selection import GroupKFold\n",
        "from xgboost import XGBRegressor\n",
        "\n",
        "BASE_DIR = \"/content/drive/MyDrive/ai4trade\"\n",
        "FEAT_DIR = f\"{BASE_DIR}/data/features\"\n",
        "OOF_DIR  = f\"{BASE_DIR}/predictions/oof\"\n",
        "FCST_DIR = f\"{BASE_DIR}/predictions/forecast\"\n",
        "LOG_DIR  = f\"{BASE_DIR}/logs/runs\"\n",
        "MODEL_DIR= f\"{BASE_DIR}/models/xgb_log1p\"\n",
        "\n",
        "os.makedirs(OOF_DIR, exist_ok=True)\n",
        "os.makedirs(FCST_DIR, exist_ok=True)\n",
        "os.makedirs(LOG_DIR, exist_ok=True)\n",
        "os.makedirs(MODEL_DIR, exist_ok=True)\n",
        "\n",
        "RUN_ID = datetime.now().strftime(\"xgb_log1p_h2_%Y%m%d_%H%M\")"
      ],
      "metadata": {
        "id": "AwJPAoVVBB1v"
      },
      "execution_count": null,
      "outputs": []
    },
    {
      "cell_type": "code",
      "source": [
        "train = pd.read_parquet(f\"{FEAT_DIR}/features_train_h2.parquet\")\n",
        "test  = pd.read_parquet(f\"{FEAT_DIR}/features_test_h2.parquet\")\n",
        "\n",
        "# Canonical identifiers\n",
        "ID_COLS = [\"origin\",\"destination\",\"hs6\",\"trade_flow\",\"month\"]\n",
        "TARGET  = \"y_target\"  # already shifted t->t+2 per policy\n",
        "\n",
        "# Feature columns: all numeric except ids + target\n",
        "drop_cols = set(ID_COLS + [TARGET])\n",
        "FEATS = [c for c in train.columns if c not in drop_cols and np.issubdtype(train[c].dtype, np.number)]\n",
        "\n",
        "# Safety\n",
        "for c in FEATS:\n",
        "    train[c] = train[c].fillna(0.0)\n",
        "    test[c]  = test[c].fillna(0.0)\n",
        "\n",
        "# Log1p target\n",
        "train[\"y_log1p\"] = np.log1p(train[TARGET].clip(lower=0))"
      ],
      "metadata": {
        "id": "-t_6PzJfBQuT"
      },
      "execution_count": null,
      "outputs": []
    },
    {
      "cell_type": "code",
      "source": [
        "def smape(y_true, y_pred, eps=1.0):\n",
        "    y_true = np.asarray(y_true, float)\n",
        "    y_pred = np.asarray(y_pred, float).clip(min=0)\n",
        "    denom = np.maximum(np.abs(y_true)+np.abs(y_pred), eps)\n",
        "    return np.mean(2.0*np.abs(y_true - y_pred)/denom)"
      ],
      "metadata": {
        "id": "0prkT8iIBSIZ"
      },
      "execution_count": null,
      "outputs": []
    },
    {
      "cell_type": "code",
      "source": [
        "# Group by series so folds don’t leak across (origin, destination, hs6, flow)\n",
        "train[\"series_key\"] = (\n",
        "    train[\"origin\"]+\"|\"+train[\"destination\"]+\"|\"+train[\"hs6\"]+\"|\"+train[\"trade_flow\"]\n",
        ")\n",
        "\n",
        "# We’ll emulate the policy folds using month ranges embedded during feature build;\n",
        "# if you saved an explicit fold id, prefer that. Otherwise use GroupKFold as a fallback.\n",
        "gkf = GroupKFold(n_splits=3)\n",
        "folds = [(tr, va) for tr, va in gkf.split(train[FEATS], groups=train[\"series_key\"])]"
      ],
      "metadata": {
        "id": "6iQjcqTgBSLm"
      },
      "execution_count": null,
      "outputs": []
    },
    {
      "cell_type": "code",
      "source": [
        "params = dict(\n",
        "    n_estimators=1500,\n",
        "    learning_rate=0.03,\n",
        "    max_depth=8,\n",
        "    min_child_weight=4,\n",
        "    subsample=0.8,\n",
        "    colsample_bytree=0.8,\n",
        "    reg_alpha=0.0,\n",
        "    reg_lambda=2.0,\n",
        "    random_state=42,\n",
        "    n_jobs=-1,\n",
        "    tree_method=\"hist\",      # fallback on CPU\n",
        "    objective=\"reg:squarederror\",\n",
        "    eval_metric=\"rmse\",\n",
        ")"
      ],
      "metadata": {
        "id": "PXia-QM5Bory"
      },
      "execution_count": null,
      "outputs": []
    },
    {
      "cell_type": "code",
      "source": [
        "oof = np.zeros(len(train))\n",
        "models = []\n",
        "\n",
        "for k, (tr_idx, va_idx) in enumerate(folds, 1):\n",
        "    tr, va = train.iloc[tr_idx], train.iloc[va_idx]\n",
        "    m = XGBRegressor(**params)\n",
        "    m.fit(tr[FEATS], tr[\"y_log1p\"],\n",
        "          eval_set=[(va[FEATS], va[\"y_log1p\"])],\n",
        "          verbose=False)\n",
        "    models.append(m)\n",
        "    # invert log1p\n",
        "    pred = np.expm1(m.predict(va[FEATS])).clip(min=0)\n",
        "    oof[va_idx] = pred\n",
        "    print(f\"Fold {k} sMAPE: {smape(va[TARGET].values, pred):.4f}\")\n",
        "\n",
        "train[\"y_pred_xgb_log1p\"] = oof\n",
        "cv_smape = smape(train[TARGET], train[\"y_pred_xgb_log1p\"])\n",
        "print(\"CV sMAPE:\", round(cv_smape, 4))"
      ],
      "metadata": {
        "colab": {
          "base_uri": "https://localhost:8080/"
        },
        "id": "eyG5yWvNBonf",
        "outputId": "f5be6fa0-b0e5-4797-e52c-7a0a6a88a502"
      },
      "execution_count": null,
      "outputs": [
        {
          "output_type": "stream",
          "name": "stdout",
          "text": [
            "Fold 1 sMAPE: 0.9922\n",
            "Fold 2 sMAPE: 0.9909\n",
            "Fold 3 sMAPE: 0.9905\n",
            "CV sMAPE: 0.9912\n"
          ]
        }
      ]
    },
    {
      "cell_type": "code",
      "source": [
        "oof_out = train[ID_COLS + [TARGET, \"y_pred_xgb_log1p\"]].copy()\n",
        "oof_path = f\"{OOF_DIR}/xgb_log1p_oof.parquet\"\n",
        "oof_out.to_parquet(oof_path, index=False)\n",
        "\n",
        "with open(f\"{LOG_DIR}/{RUN_ID}.json\",\"w\") as f:\n",
        "    json.dump({\"run_id\": RUN_ID, \"model\":\"xgb_log1p\", \"cv_smape\": float(cv_smape),\n",
        "               \"features\": FEATS, \"params\": params}, f)\n",
        "print(\"Saved:\", oof_path)"
      ],
      "metadata": {
        "colab": {
          "base_uri": "https://localhost:8080/"
        },
        "id": "4IT7JRoJBoei",
        "outputId": "fde1dfeb-6b8b-413d-cd2a-0c87cad0c686"
      },
      "execution_count": null,
      "outputs": [
        {
          "output_type": "stream",
          "name": "stdout",
          "text": [
            "Saved: /content/drive/MyDrive/ai4trade/predictions/oof/xgb_log1p_oof.parquet\n"
          ]
        }
      ]
    },
    {
      "cell_type": "code",
      "source": [
        "full = XGBRegressor(**params)\n",
        "full.fit(train[FEATS], train[\"y_log1p\"])\n",
        "test[\"y_pred_xgb_log1p\"] = np.expm1(full.predict(test[FEATS])).clip(min=0)\n",
        "\n",
        "fcst_out = test[ID_COLS + [\"y_pred_xgb_log1p\"]].copy()\n",
        "fcst_path = f\"{FCST_DIR}/xgb_log1p_forecast.parquet\"\n",
        "fcst_out.to_parquet(fcst_path, index=False)\n",
        "print(\"Saved:\", fcst_path)"
      ],
      "metadata": {
        "colab": {
          "base_uri": "https://localhost:8080/"
        },
        "id": "mcMt0XWLBvbh",
        "outputId": "ce369a3b-b179-444b-91ee-db1fcf889e83"
      },
      "execution_count": null,
      "outputs": [
        {
          "output_type": "stream",
          "name": "stdout",
          "text": [
            "Saved: /content/drive/MyDrive/ai4trade/predictions/forecast/xgb_log1p_forecast.parquet\n"
          ]
        }
      ]
    }
  ]
}