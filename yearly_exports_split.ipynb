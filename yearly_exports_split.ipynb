{
  "nbformat": 4,
  "nbformat_minor": 0,
  "metadata": {
    "colab": {
      "provenance": [],
      "authorship_tag": "ABX9TyN/yu4rEsarEnQG18SNeGty",
      "include_colab_link": true
    },
    "kernelspec": {
      "name": "python3",
      "display_name": "Python 3"
    },
    "language_info": {
      "name": "python"
    }
  },
  "cells": [
    {
      "cell_type": "markdown",
      "metadata": {
        "id": "view-in-github",
        "colab_type": "text"
      },
      "source": [
        "<a href=\"https://colab.research.google.com/github/Tiru-Kaggundi/Trade_AI/blob/main/yearly_exports_split.ipynb\" target=\"_parent\"><img src=\"https://colab.research.google.com/assets/colab-badge.svg\" alt=\"Open In Colab\"/></a>"
      ]
    },
    {
      "cell_type": "code",
      "execution_count": 1,
      "metadata": {
        "colab": {
          "base_uri": "https://localhost:8080/"
        },
        "id": "6qZpGXGGS9oH",
        "outputId": "625ed7d7-7c16-4e0c-c6e1-3eaeac20abe5"
      },
      "outputs": [
        {
          "output_type": "stream",
          "name": "stdout",
          "text": [
            "Mounted at /content/drive\n",
            "Reading from: /content/drive/MyDrive/ai4trade/data/interim/harmonized_trade_data.parquet\n",
            "Output directory: /content/drive/MyDrive/ai4trade/data/interim\n"
          ]
        }
      ],
      "source": [
        "#@title Install and import essentials\n",
        "import pandas as pd\n",
        "import numpy as np\n",
        "from pathlib import Path\n",
        "\n",
        "# Mount Google Drive\n",
        "from google.colab import drive\n",
        "drive.mount('/content/drive')\n",
        "\n",
        "BASE_DIR = Path('/content/drive/MyDrive/ai4trade')\n",
        "IN_PATH = BASE_DIR / 'data' / 'interim' / 'harmonized_trade_data.parquet'\n",
        "OUT_DIR = BASE_DIR / 'data' / 'interim'\n",
        "\n",
        "print(f\"Reading from: {IN_PATH}\")\n",
        "print(f\"Output directory: {OUT_DIR}\")"
      ]
    },
    {
      "cell_type": "code",
      "source": [
        "#@title Load harmonized parquet and inspect columns\n",
        "df = pd.read_parquet(IN_PATH)\n",
        "print(\"Shape:\", df.shape)\n",
        "print(\"Columns:\", df.columns.tolist())\n",
        "display(df.head(5))\n",
        "\n",
        "# Quick schema check (as per project convention)\n",
        "expected_cols = {'origin', 'destination', 'hs6', 'hs4', 'trade_flow', 'month', 'value'}\n",
        "missing = expected_cols - set(df.columns)\n",
        "if missing:\n",
        "    raise ValueError(f\"Missing expected columns: {missing}\")\n",
        "else:\n",
        "    print(\"✅ Columns verified OK\")\n",
        "\n",
        "# Ensure month column is datetime\n",
        "df['month'] = pd.to_datetime(df['month'], errors='coerce')\n",
        "df = df.dropna(subset=['month'])\n",
        "\n",
        "# Extract year for filtering\n",
        "df['year'] = df['month'].dt.year\n",
        "print(df['year'].value_counts().sort_index())"
      ],
      "metadata": {
        "colab": {
          "base_uri": "https://localhost:8080/",
          "height": 349
        },
        "id": "GXbJ_xl-TSu-",
        "outputId": "3ec4cc81-1937-4a3f-bf2f-00354ec13747"
      },
      "execution_count": 2,
      "outputs": [
        {
          "output_type": "stream",
          "name": "stdout",
          "text": [
            "Shape: (18811510, 7)\n",
            "Columns: ['origin', 'destination', 'hs6', 'hs4', 'trade_flow', 'month', 'value']\n"
          ]
        },
        {
          "output_type": "display_data",
          "data": {
            "text/plain": [
              "  origin destination     hs6   hs4 trade_flow      month  value\n",
              "0    CHN         ABW  030743  3074     Export 2023-06-01  29424\n",
              "1    CHN         ABW  030743  3074     Export 2023-08-01  38083\n",
              "2    CHN         ABW  030743  3074     Export 2023-10-01  32605\n",
              "3    CHN         ABW  030743  3074     Export 2023-11-01  48420\n",
              "4    CHN         ABW  070999  7099     Export 2023-10-01    179"
            ],
            "text/html": [
              "\n",
              "  <div id=\"df-8db49732-44cd-49a4-8ffe-163ff653374a\" class=\"colab-df-container\">\n",
              "    <div>\n",
              "<style scoped>\n",
              "    .dataframe tbody tr th:only-of-type {\n",
              "        vertical-align: middle;\n",
              "    }\n",
              "\n",
              "    .dataframe tbody tr th {\n",
              "        vertical-align: top;\n",
              "    }\n",
              "\n",
              "    .dataframe thead th {\n",
              "        text-align: right;\n",
              "    }\n",
              "</style>\n",
              "<table border=\"1\" class=\"dataframe\">\n",
              "  <thead>\n",
              "    <tr style=\"text-align: right;\">\n",
              "      <th></th>\n",
              "      <th>origin</th>\n",
              "      <th>destination</th>\n",
              "      <th>hs6</th>\n",
              "      <th>hs4</th>\n",
              "      <th>trade_flow</th>\n",
              "      <th>month</th>\n",
              "      <th>value</th>\n",
              "    </tr>\n",
              "  </thead>\n",
              "  <tbody>\n",
              "    <tr>\n",
              "      <th>0</th>\n",
              "      <td>CHN</td>\n",
              "      <td>ABW</td>\n",
              "      <td>030743</td>\n",
              "      <td>3074</td>\n",
              "      <td>Export</td>\n",
              "      <td>2023-06-01</td>\n",
              "      <td>29424</td>\n",
              "    </tr>\n",
              "    <tr>\n",
              "      <th>1</th>\n",
              "      <td>CHN</td>\n",
              "      <td>ABW</td>\n",
              "      <td>030743</td>\n",
              "      <td>3074</td>\n",
              "      <td>Export</td>\n",
              "      <td>2023-08-01</td>\n",
              "      <td>38083</td>\n",
              "    </tr>\n",
              "    <tr>\n",
              "      <th>2</th>\n",
              "      <td>CHN</td>\n",
              "      <td>ABW</td>\n",
              "      <td>030743</td>\n",
              "      <td>3074</td>\n",
              "      <td>Export</td>\n",
              "      <td>2023-10-01</td>\n",
              "      <td>32605</td>\n",
              "    </tr>\n",
              "    <tr>\n",
              "      <th>3</th>\n",
              "      <td>CHN</td>\n",
              "      <td>ABW</td>\n",
              "      <td>030743</td>\n",
              "      <td>3074</td>\n",
              "      <td>Export</td>\n",
              "      <td>2023-11-01</td>\n",
              "      <td>48420</td>\n",
              "    </tr>\n",
              "    <tr>\n",
              "      <th>4</th>\n",
              "      <td>CHN</td>\n",
              "      <td>ABW</td>\n",
              "      <td>070999</td>\n",
              "      <td>7099</td>\n",
              "      <td>Export</td>\n",
              "      <td>2023-10-01</td>\n",
              "      <td>179</td>\n",
              "    </tr>\n",
              "  </tbody>\n",
              "</table>\n",
              "</div>\n",
              "    <div class=\"colab-df-buttons\">\n",
              "\n",
              "  <div class=\"colab-df-container\">\n",
              "    <button class=\"colab-df-convert\" onclick=\"convertToInteractive('df-8db49732-44cd-49a4-8ffe-163ff653374a')\"\n",
              "            title=\"Convert this dataframe to an interactive table.\"\n",
              "            style=\"display:none;\">\n",
              "\n",
              "  <svg xmlns=\"http://www.w3.org/2000/svg\" height=\"24px\" viewBox=\"0 -960 960 960\">\n",
              "    <path d=\"M120-120v-720h720v720H120Zm60-500h600v-160H180v160Zm220 220h160v-160H400v160Zm0 220h160v-160H400v160ZM180-400h160v-160H180v160Zm440 0h160v-160H620v160ZM180-180h160v-160H180v160Zm440 0h160v-160H620v160Z\"/>\n",
              "  </svg>\n",
              "    </button>\n",
              "\n",
              "  <style>\n",
              "    .colab-df-container {\n",
              "      display:flex;\n",
              "      gap: 12px;\n",
              "    }\n",
              "\n",
              "    .colab-df-convert {\n",
              "      background-color: #E8F0FE;\n",
              "      border: none;\n",
              "      border-radius: 50%;\n",
              "      cursor: pointer;\n",
              "      display: none;\n",
              "      fill: #1967D2;\n",
              "      height: 32px;\n",
              "      padding: 0 0 0 0;\n",
              "      width: 32px;\n",
              "    }\n",
              "\n",
              "    .colab-df-convert:hover {\n",
              "      background-color: #E2EBFA;\n",
              "      box-shadow: 0px 1px 2px rgba(60, 64, 67, 0.3), 0px 1px 3px 1px rgba(60, 64, 67, 0.15);\n",
              "      fill: #174EA6;\n",
              "    }\n",
              "\n",
              "    .colab-df-buttons div {\n",
              "      margin-bottom: 4px;\n",
              "    }\n",
              "\n",
              "    [theme=dark] .colab-df-convert {\n",
              "      background-color: #3B4455;\n",
              "      fill: #D2E3FC;\n",
              "    }\n",
              "\n",
              "    [theme=dark] .colab-df-convert:hover {\n",
              "      background-color: #434B5C;\n",
              "      box-shadow: 0px 1px 3px 1px rgba(0, 0, 0, 0.15);\n",
              "      filter: drop-shadow(0px 1px 2px rgba(0, 0, 0, 0.3));\n",
              "      fill: #FFFFFF;\n",
              "    }\n",
              "  </style>\n",
              "\n",
              "    <script>\n",
              "      const buttonEl =\n",
              "        document.querySelector('#df-8db49732-44cd-49a4-8ffe-163ff653374a button.colab-df-convert');\n",
              "      buttonEl.style.display =\n",
              "        google.colab.kernel.accessAllowed ? 'block' : 'none';\n",
              "\n",
              "      async function convertToInteractive(key) {\n",
              "        const element = document.querySelector('#df-8db49732-44cd-49a4-8ffe-163ff653374a');\n",
              "        const dataTable =\n",
              "          await google.colab.kernel.invokeFunction('convertToInteractive',\n",
              "                                                    [key], {});\n",
              "        if (!dataTable) return;\n",
              "\n",
              "        const docLinkHtml = 'Like what you see? Visit the ' +\n",
              "          '<a target=\"_blank\" href=https://colab.research.google.com/notebooks/data_table.ipynb>data table notebook</a>'\n",
              "          + ' to learn more about interactive tables.';\n",
              "        element.innerHTML = '';\n",
              "        dataTable['output_type'] = 'display_data';\n",
              "        await google.colab.output.renderOutput(dataTable, element);\n",
              "        const docLink = document.createElement('div');\n",
              "        docLink.innerHTML = docLinkHtml;\n",
              "        element.appendChild(docLink);\n",
              "      }\n",
              "    </script>\n",
              "  </div>\n",
              "\n",
              "\n",
              "    <div id=\"df-752d2f4d-962b-460e-bd44-6571f76a9d9d\">\n",
              "      <button class=\"colab-df-quickchart\" onclick=\"quickchart('df-752d2f4d-962b-460e-bd44-6571f76a9d9d')\"\n",
              "                title=\"Suggest charts\"\n",
              "                style=\"display:none;\">\n",
              "\n",
              "<svg xmlns=\"http://www.w3.org/2000/svg\" height=\"24px\"viewBox=\"0 0 24 24\"\n",
              "     width=\"24px\">\n",
              "    <g>\n",
              "        <path d=\"M19 3H5c-1.1 0-2 .9-2 2v14c0 1.1.9 2 2 2h14c1.1 0 2-.9 2-2V5c0-1.1-.9-2-2-2zM9 17H7v-7h2v7zm4 0h-2V7h2v10zm4 0h-2v-4h2v4z\"/>\n",
              "    </g>\n",
              "</svg>\n",
              "      </button>\n",
              "\n",
              "<style>\n",
              "  .colab-df-quickchart {\n",
              "      --bg-color: #E8F0FE;\n",
              "      --fill-color: #1967D2;\n",
              "      --hover-bg-color: #E2EBFA;\n",
              "      --hover-fill-color: #174EA6;\n",
              "      --disabled-fill-color: #AAA;\n",
              "      --disabled-bg-color: #DDD;\n",
              "  }\n",
              "\n",
              "  [theme=dark] .colab-df-quickchart {\n",
              "      --bg-color: #3B4455;\n",
              "      --fill-color: #D2E3FC;\n",
              "      --hover-bg-color: #434B5C;\n",
              "      --hover-fill-color: #FFFFFF;\n",
              "      --disabled-bg-color: #3B4455;\n",
              "      --disabled-fill-color: #666;\n",
              "  }\n",
              "\n",
              "  .colab-df-quickchart {\n",
              "    background-color: var(--bg-color);\n",
              "    border: none;\n",
              "    border-radius: 50%;\n",
              "    cursor: pointer;\n",
              "    display: none;\n",
              "    fill: var(--fill-color);\n",
              "    height: 32px;\n",
              "    padding: 0;\n",
              "    width: 32px;\n",
              "  }\n",
              "\n",
              "  .colab-df-quickchart:hover {\n",
              "    background-color: var(--hover-bg-color);\n",
              "    box-shadow: 0 1px 2px rgba(60, 64, 67, 0.3), 0 1px 3px 1px rgba(60, 64, 67, 0.15);\n",
              "    fill: var(--button-hover-fill-color);\n",
              "  }\n",
              "\n",
              "  .colab-df-quickchart-complete:disabled,\n",
              "  .colab-df-quickchart-complete:disabled:hover {\n",
              "    background-color: var(--disabled-bg-color);\n",
              "    fill: var(--disabled-fill-color);\n",
              "    box-shadow: none;\n",
              "  }\n",
              "\n",
              "  .colab-df-spinner {\n",
              "    border: 2px solid var(--fill-color);\n",
              "    border-color: transparent;\n",
              "    border-bottom-color: var(--fill-color);\n",
              "    animation:\n",
              "      spin 1s steps(1) infinite;\n",
              "  }\n",
              "\n",
              "  @keyframes spin {\n",
              "    0% {\n",
              "      border-color: transparent;\n",
              "      border-bottom-color: var(--fill-color);\n",
              "      border-left-color: var(--fill-color);\n",
              "    }\n",
              "    20% {\n",
              "      border-color: transparent;\n",
              "      border-left-color: var(--fill-color);\n",
              "      border-top-color: var(--fill-color);\n",
              "    }\n",
              "    30% {\n",
              "      border-color: transparent;\n",
              "      border-left-color: var(--fill-color);\n",
              "      border-top-color: var(--fill-color);\n",
              "      border-right-color: var(--fill-color);\n",
              "    }\n",
              "    40% {\n",
              "      border-color: transparent;\n",
              "      border-right-color: var(--fill-color);\n",
              "      border-top-color: var(--fill-color);\n",
              "    }\n",
              "    60% {\n",
              "      border-color: transparent;\n",
              "      border-right-color: var(--fill-color);\n",
              "    }\n",
              "    80% {\n",
              "      border-color: transparent;\n",
              "      border-right-color: var(--fill-color);\n",
              "      border-bottom-color: var(--fill-color);\n",
              "    }\n",
              "    90% {\n",
              "      border-color: transparent;\n",
              "      border-bottom-color: var(--fill-color);\n",
              "    }\n",
              "  }\n",
              "</style>\n",
              "\n",
              "      <script>\n",
              "        async function quickchart(key) {\n",
              "          const quickchartButtonEl =\n",
              "            document.querySelector('#' + key + ' button');\n",
              "          quickchartButtonEl.disabled = true;  // To prevent multiple clicks.\n",
              "          quickchartButtonEl.classList.add('colab-df-spinner');\n",
              "          try {\n",
              "            const charts = await google.colab.kernel.invokeFunction(\n",
              "                'suggestCharts', [key], {});\n",
              "          } catch (error) {\n",
              "            console.error('Error during call to suggestCharts:', error);\n",
              "          }\n",
              "          quickchartButtonEl.classList.remove('colab-df-spinner');\n",
              "          quickchartButtonEl.classList.add('colab-df-quickchart-complete');\n",
              "        }\n",
              "        (() => {\n",
              "          let quickchartButtonEl =\n",
              "            document.querySelector('#df-752d2f4d-962b-460e-bd44-6571f76a9d9d button');\n",
              "          quickchartButtonEl.style.display =\n",
              "            google.colab.kernel.accessAllowed ? 'block' : 'none';\n",
              "        })();\n",
              "      </script>\n",
              "    </div>\n",
              "\n",
              "    </div>\n",
              "  </div>\n"
            ],
            "application/vnd.google.colaboratory.intrinsic+json": {
              "type": "dataframe",
              "summary": "{\n  \"name\": \"print(df['year']\",\n  \"rows\": 5,\n  \"fields\": [\n    {\n      \"column\": \"origin\",\n      \"properties\": {\n        \"dtype\": \"category\",\n        \"num_unique_values\": 1,\n        \"samples\": [\n          \"CHN\"\n        ],\n        \"semantic_type\": \"\",\n        \"description\": \"\"\n      }\n    },\n    {\n      \"column\": \"destination\",\n      \"properties\": {\n        \"dtype\": \"category\",\n        \"num_unique_values\": 1,\n        \"samples\": [\n          \"ABW\"\n        ],\n        \"semantic_type\": \"\",\n        \"description\": \"\"\n      }\n    },\n    {\n      \"column\": \"hs6\",\n      \"properties\": {\n        \"dtype\": \"object\",\n        \"num_unique_values\": 2,\n        \"samples\": [\n          \"070999\"\n        ],\n        \"semantic_type\": \"\",\n        \"description\": \"\"\n      }\n    },\n    {\n      \"column\": \"hs4\",\n      \"properties\": {\n        \"dtype\": \"category\",\n        \"num_unique_values\": 2,\n        \"samples\": [\n          \"7099\"\n        ],\n        \"semantic_type\": \"\",\n        \"description\": \"\"\n      }\n    },\n    {\n      \"column\": \"trade_flow\",\n      \"properties\": {\n        \"dtype\": \"category\",\n        \"num_unique_values\": 1,\n        \"samples\": [\n          \"Export\"\n        ],\n        \"semantic_type\": \"\",\n        \"description\": \"\"\n      }\n    },\n    {\n      \"column\": \"month\",\n      \"properties\": {\n        \"dtype\": \"date\",\n        \"min\": \"2023-06-01 00:00:00\",\n        \"max\": \"2023-11-01 00:00:00\",\n        \"num_unique_values\": 4,\n        \"samples\": [\n          \"2023-08-01 00:00:00\"\n        ],\n        \"semantic_type\": \"\",\n        \"description\": \"\"\n      }\n    },\n    {\n      \"column\": \"value\",\n      \"properties\": {\n        \"dtype\": \"number\",\n        \"std\": 18032,\n        \"min\": 179,\n        \"max\": 48420,\n        \"num_unique_values\": 5,\n        \"samples\": [\n          38083\n        ],\n        \"semantic_type\": \"\",\n        \"description\": \"\"\n      }\n    }\n  ]\n}"
            }
          },
          "metadata": {}
        },
        {
          "output_type": "stream",
          "name": "stdout",
          "text": [
            "✅ Columns verified OK\n",
            "year\n",
            "2023    8623596\n",
            "2024    8633819\n",
            "2025    1554095\n",
            "Name: count, dtype: int64\n"
          ]
        }
      ]
    },
    {
      "cell_type": "code",
      "source": [
        "#@title Drop flows that are zero for the entire year\n",
        "# Compute yearly sums\n",
        "group_cols = ['origin', 'destination', 'hs6', 'hs4', 'trade_flow', 'year']\n",
        "yearly_sum = (\n",
        "    df.groupby(group_cols, as_index=False)['value']\n",
        "      .sum()\n",
        "      .rename(columns={'value': 'yearly_total'})\n",
        ")\n",
        "\n",
        "# Merge back and filter out yearly_total==0\n",
        "df = df.merge(yearly_sum, on=group_cols, how='left')\n",
        "non_zero_df = df[df['yearly_total'] > 0].drop(columns=['yearly_total'])\n",
        "print(f\"Remaining rows after removing all-zero yearly flows: {len(non_zero_df):,}\")"
      ],
      "metadata": {
        "colab": {
          "base_uri": "https://localhost:8080/"
        },
        "id": "glCxDuA-TSx7",
        "outputId": "fd4e18b2-82e3-450d-a5a4-3bde68593fd0"
      },
      "execution_count": 3,
      "outputs": [
        {
          "output_type": "stream",
          "name": "stdout",
          "text": [
            "Remaining rows after removing all-zero yearly flows: 18,802,259\n"
          ]
        }
      ]
    },
    {
      "cell_type": "code",
      "source": [
        "#@title Split into (country, flow, year) subsets and save\n",
        "YEARS = [2023, 2024]\n",
        "COUNTRIES = ['CHN', 'USA']\n",
        "FLOWS = ['Export', 'Import']\n",
        "\n",
        "for year in YEARS:\n",
        "    for country in COUNTRIES:\n",
        "        for flow in FLOWS:\n",
        "            subset = non_zero_df.query(\"year == @year and origin == @country and trade_flow == @flow\")\n",
        "            if subset.empty:\n",
        "                print(f\"⚠️ No data for {country} {flow} {year}\")\n",
        "                continue\n",
        "\n",
        "            # Keep standard columns\n",
        "            subset = subset[['origin','destination','hs6','hs4','trade_flow','month','value']].copy()\n",
        "\n",
        "            # Output path\n",
        "            fname = f\"{country}_{flow.lower()}s_{year}.parquet\"\n",
        "            out_path = OUT_DIR / fname\n",
        "            subset.to_parquet(out_path, index=False)\n",
        "            print(f\"✅ Saved {fname}: {len(subset):,} rows\")"
      ],
      "metadata": {
        "colab": {
          "base_uri": "https://localhost:8080/"
        },
        "id": "jXna3q6oTS0y",
        "outputId": "97d5ba5f-d94f-407e-dafe-d90bb775d874"
      },
      "execution_count": 4,
      "outputs": [
        {
          "output_type": "stream",
          "name": "stdout",
          "text": [
            "✅ Saved CHN_exports_2023.parquet: 3,600,522 rows\n",
            "✅ Saved CHN_imports_2023.parquet: 806,901 rows\n",
            "✅ Saved USA_exports_2023.parquet: 2,663,488 rows\n",
            "✅ Saved USA_imports_2023.parquet: 1,548,584 rows\n",
            "✅ Saved CHN_exports_2024.parquet: 3,632,428 rows\n",
            "✅ Saved CHN_imports_2024.parquet: 806,661 rows\n",
            "✅ Saved USA_exports_2024.parquet: 2,642,466 rows\n",
            "✅ Saved USA_imports_2024.parquet: 1,548,011 rows\n"
          ]
        }
      ]
    },
    {
      "cell_type": "code",
      "source": [
        "#@title Load CHN imports 2023 and plot monthly totals\n",
        "import matplotlib.pyplot as plt\n",
        "import seaborn as sns\n",
        "\n",
        "# Load the specific parquet file\n",
        "file_path = OUT_DIR / 'CHN_imports_2023.parquet'\n",
        "if not file_path.exists():\n",
        "    print(f\"Error: File not found at {file_path}\")\n",
        "else:\n",
        "    chn_imports_2023 = pd.read_parquet(file_path)\n",
        "\n",
        "    # Group by month and sum the value\n",
        "    monthly_imports = chn_imports_2023.groupby('month')['value'].sum().reset_index()\n",
        "\n",
        "    # Convert to USD Billions\n",
        "    monthly_imports['value_billion'] = monthly_imports['value'] / 1_000_000_000\n",
        "\n",
        "    # Plotting\n",
        "    plt.figure(figsize=(12, 6))\n",
        "    sns.lineplot(data=monthly_imports, x='month', y='value_billion')\n",
        "    plt.title('Monthly Total CHN Imports in 2023 (USD Billions)')\n",
        "    plt.xlabel('Month')\n",
        "    plt.ylabel('Value (USD Billions)')\n",
        "    plt.grid(True)\n",
        "    plt.show()"
      ],
      "metadata": {
        "colab": {
          "base_uri": "https://localhost:8080/",
          "height": 584
        },
        "id": "luvcow2ATS_u",
        "outputId": "d5e67d00-96b6-4edc-8f23-a02e74d932b0"
      },
      "execution_count": 6,
      "outputs": [
        {
          "output_type": "display_data",
          "data": {
            "text/plain": [
              "<Figure size 1200x600 with 1 Axes>"
            ],
            "image/png": "[encoded data removed]"
          },
          "metadata": {}
        }
      ]
    },
    {
      "cell_type": "code",
      "source": [
        "#@title Analyze unique destinations and top 10\n",
        "if 'chn_imports_2023' in locals():\n",
        "    # Get the number of unique destinations\n",
        "    unique_destinations_count = chn_imports_2023['destination'].nunique()\n",
        "    print(f\"Number of unique destinations: {unique_destinations_count}\")\n",
        "\n",
        "    # Get the top 10 destinations by value\n",
        "    top_10_destinations = chn_imports_2023.groupby('destination')['value'].sum().sort_values(ascending=False).head(10)\n",
        "    print(\"\\nTop 10 destinations by import value:\")\n",
        "    print(top_10_destinations)\n",
        "else:\n",
        "    print(\"Error: 'chn_imports_2023' DataFrame not found. Please run the previous cell to load the data.\")"
      ],
      "metadata": {
        "colab": {
          "base_uri": "https://localhost:8080/"
        },
        "id": "Gewdmkp0XJ-0",
        "outputId": "8d98e24e-ccf2-46c2-c6e4-491904064d49"
      },
      "execution_count": 7,
      "outputs": [
        {
          "output_type": "stream",
          "name": "stdout",
          "text": [
            "Number of unique destinations: 245\n",
            "\n",
            "Top 10 destinations by import value:\n",
            "destination\n",
            "TWN    200398647719\n",
            "USA    166085218224\n",
            "KOR    162549206133\n",
            "JPN    160822805545\n",
            "AUS    154967767157\n",
            "RUS    127627492025\n",
            "BRA    122363447158\n",
            "DEU    106506227805\n",
            "CHN    105938225657\n",
            "MYS    102800357203\n",
            "Name: value, dtype: int64\n"
          ]
        }
      ]
    },
    {
      "cell_type": "code",
      "metadata": {
        "colab": {
          "base_uri": "https://localhost:8080/"
        },
        "id": "8985d191",
        "outputId": "15718c59-5e85-4bab-d247-3c902c555ac6"
      },
      "source": [
        "# Filter the DataFrame where origin and destination are both CHN\n",
        "chn_domestic_trade = chn_imports_2023.query(\"destination == 'CHN'\").copy()\n",
        "\n",
        "if chn_domestic_trade.empty:\n",
        "    print(\"No data found where origin and destination are both CHN in the chn_imports_2023 dataset.\")\n",
        "else:\n",
        "    # Group by HS6 and sum the value\n",
        "    top_10_products_chn_dest = chn_domestic_trade.groupby('hs6')['value'].sum().sort_values(ascending=False).head(10)\n",
        "\n",
        "    print(\"Top 10 products (HS6) where destination is CHN by import value:\")\n",
        "    print(top_10_products_chn_dest)"
      ],
      "execution_count": 8,
      "outputs": [
        {
          "output_type": "stream",
          "name": "stdout",
          "text": [
            "Top 10 products (HS6) where destination is CHN by import value:\n",
            "hs6\n",
            "854231    16413943406\n",
            "854232    14274023300\n",
            "854239    13738261317\n",
            "854129     4368955537\n",
            "847330     3965120025\n",
            "847180     3509488360\n",
            "851779     2318276358\n",
            "854233     2243414467\n",
            "851762     2167888690\n",
            "847170     2144420246\n",
            "Name: value, dtype: int64\n"
          ]
        }
      ]
    },
    {
      "cell_type": "code",
      "source": [],
      "metadata": {
        "id": "yTLhWwffXKO7"
      },
      "execution_count": null,
      "outputs": []
    }
  ]
}