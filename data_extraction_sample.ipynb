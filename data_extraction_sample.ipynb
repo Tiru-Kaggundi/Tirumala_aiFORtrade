{
 "cells": [
  {
   "cell_type": "code",
   "execution_count": 1,
   "metadata": {},
   "outputs": [],
   "source": [
    "import pandas as pd\n",
    "import os"
   ]
  },
  {
   "cell_type": "code",
   "execution_count": 2,
   "metadata": {},
   "outputs": [],
   "source": [
    "# Set this to the folder where your CSVs are stored\n",
    "DATA_DIR = \"ForParticipants/csv_data_extracted\"\n",
    "\n",
    "# File names\n",
    "FILES = {\n",
    "    'usa_2023': 'trade_s_usa_state_m_hs_2023.csv',\n",
    "    'usa_2024': 'trade_s_usa_state_m_hs_2024.csv',\n",
    "    'chn_2023': 'trade_s_chn_m_hs_2023.csv',\n",
    "    'chn_2024': 'trade_s_chn_m_hs_2024.csv'\n",
    "}\n",
    "\n",
    "# Number of rows to extract for sample\n",
    "SAMPLE_ROWS = 5000"
   ]
  },
  {
   "cell_type": "code",
   "execution_count": 4,
   "metadata": {},
   "outputs": [],
   "source": [
    "SAMPLE_ROWS = 5000\n",
    "\n",
    "def extract_sample(file_path, sample_rows=SAMPLE_ROWS):\n",
    "    chunks = pd.read_csv(\n",
    "        file_path,\n",
    "        chunksize=100000,\n",
    "        dtype=str,\n",
    "        low_memory=False,\n",
    "        on_bad_lines='skip',  # Skips corrupt lines\n",
    "        engine='c'            # Revert to default C engine for chunking\n",
    "    )\n",
    "    \n",
    "    sample = []\n",
    "    total_rows = 0\n",
    "    for chunk in chunks:\n",
    "        sample.append(chunk)\n",
    "        total_rows += len(chunk)\n",
    "        if total_rows >= sample_rows:\n",
    "            break\n",
    "    df_sample = pd.concat(sample).head(sample_rows).reset_index(drop=True)\n",
    "    return df_sample"
   ]
  },
  {
   "cell_type": "code",
   "execution_count": 5,
   "metadata": {},
   "outputs": [
    {
     "name": "stdout",
     "output_type": "stream",
     "text": [
      "Extracting from trade_s_usa_state_m_hs_2023.csv ...\n",
      "Saved sample to samples/sample_usa_2023.csv\n",
      "Extracting from trade_s_usa_state_m_hs_2024.csv ...\n",
      "Saved sample to samples/sample_usa_2024.csv\n",
      "Extracting from trade_s_chn_m_hs_2023.csv ...\n",
      "Saved sample to samples/sample_chn_2023.csv\n",
      "Extracting from trade_s_chn_m_hs_2024.csv ...\n",
      "Saved sample to samples/sample_chn_2024.csv\n"
     ]
    }
   ],
   "source": [
    "# Output directory for sample files\n",
    "os.makedirs(\"samples\", exist_ok=True)\n",
    "\n",
    "# Extract samples\n",
    "for label, filename in FILES.items():\n",
    "    full_path = os.path.join(DATA_DIR, filename)\n",
    "    print(f\"Extracting from {filename} ...\")\n",
    "    df_sample = extract_sample(full_path)\n",
    "    output_file = f\"samples/sample_{label}.csv\"\n",
    "    df_sample.to_csv(output_file, index=False)\n",
    "    print(f\"Saved sample to {output_file}\")"
   ]
  },
  {
   "cell_type": "code",
   "execution_count": 7,
   "metadata": {},
   "outputs": [
    {
     "data": {
      "text/html": [
       "<div>\n",
       "<style scoped>\n",
       "    .dataframe tbody tr th:only-of-type {\n",
       "        vertical-align: middle;\n",
       "    }\n",
       "\n",
       "    .dataframe tbody tr th {\n",
       "        vertical-align: top;\n",
       "    }\n",
       "\n",
       "    .dataframe thead th {\n",
       "        text-align: right;\n",
       "    }\n",
       "</style>\n",
       "<table border=\"1\" class=\"dataframe\">\n",
       "  <thead>\n",
       "    <tr style=\"text-align: right;\">\n",
       "      <th></th>\n",
       "      <th>origin</th>\n",
       "      <th>destination</th>\n",
       "      <th>hs6</th>\n",
       "      <th>hs4</th>\n",
       "      <th>trade_flow</th>\n",
       "      <th>month</th>\n",
       "      <th>value</th>\n",
       "    </tr>\n",
       "  </thead>\n",
       "  <tbody>\n",
       "    <tr>\n",
       "      <th>0</th>\n",
       "      <td>CHN</td>\n",
       "      <td>\\N</td>\n",
       "      <td>030359</td>\n",
       "      <td>0303</td>\n",
       "      <td>Exports</td>\n",
       "      <td>2023-01-01</td>\n",
       "      <td>45000</td>\n",
       "    </tr>\n",
       "    <tr>\n",
       "      <th>1</th>\n",
       "      <td>CHN</td>\n",
       "      <td>\\N</td>\n",
       "      <td>070310</td>\n",
       "      <td>0703</td>\n",
       "      <td>Exports</td>\n",
       "      <td>2023-01-01</td>\n",
       "      <td>2200</td>\n",
       "    </tr>\n",
       "    <tr>\n",
       "      <th>2</th>\n",
       "      <td>CHN</td>\n",
       "      <td>\\N</td>\n",
       "      <td>070320</td>\n",
       "      <td>0703</td>\n",
       "      <td>Exports</td>\n",
       "      <td>2023-01-01</td>\n",
       "      <td>600</td>\n",
       "    </tr>\n",
       "    <tr>\n",
       "      <th>3</th>\n",
       "      <td>CHN</td>\n",
       "      <td>\\N</td>\n",
       "      <td>190230</td>\n",
       "      <td>1902</td>\n",
       "      <td>Exports</td>\n",
       "      <td>2023-01-01</td>\n",
       "      <td>28917</td>\n",
       "    </tr>\n",
       "    <tr>\n",
       "      <th>4</th>\n",
       "      <td>CHN</td>\n",
       "      <td>\\N</td>\n",
       "      <td>200870</td>\n",
       "      <td>2008</td>\n",
       "      <td>Exports</td>\n",
       "      <td>2023-01-01</td>\n",
       "      <td>11520</td>\n",
       "    </tr>\n",
       "    <tr>\n",
       "      <th>...</th>\n",
       "      <td>...</td>\n",
       "      <td>...</td>\n",
       "      <td>...</td>\n",
       "      <td>...</td>\n",
       "      <td>...</td>\n",
       "      <td>...</td>\n",
       "      <td>...</td>\n",
       "    </tr>\n",
       "    <tr>\n",
       "      <th>29982696</th>\n",
       "      <td>USA</td>\n",
       "      <td>ZWE</td>\n",
       "      <td>880710</td>\n",
       "      <td>8807</td>\n",
       "      <td>Exports</td>\n",
       "      <td>2024-12-01</td>\n",
       "      <td>0</td>\n",
       "    </tr>\n",
       "    <tr>\n",
       "      <th>29982697</th>\n",
       "      <td>USA</td>\n",
       "      <td>ZWE</td>\n",
       "      <td>901480</td>\n",
       "      <td>9014</td>\n",
       "      <td>Exports</td>\n",
       "      <td>2024-12-01</td>\n",
       "      <td>0</td>\n",
       "    </tr>\n",
       "    <tr>\n",
       "      <th>29982698</th>\n",
       "      <td>USA</td>\n",
       "      <td>ZWE</td>\n",
       "      <td>901819</td>\n",
       "      <td>9018</td>\n",
       "      <td>Exports</td>\n",
       "      <td>2024-12-01</td>\n",
       "      <td>0</td>\n",
       "    </tr>\n",
       "    <tr>\n",
       "      <th>29982699</th>\n",
       "      <td>USA</td>\n",
       "      <td>ZWE</td>\n",
       "      <td>902300</td>\n",
       "      <td>9023</td>\n",
       "      <td>Exports</td>\n",
       "      <td>2024-12-01</td>\n",
       "      <td>0</td>\n",
       "    </tr>\n",
       "    <tr>\n",
       "      <th>29982700</th>\n",
       "      <td>USA</td>\n",
       "      <td>ZWE</td>\n",
       "      <td>902480</td>\n",
       "      <td>9024</td>\n",
       "      <td>Exports</td>\n",
       "      <td>2024-12-01</td>\n",
       "      <td>0</td>\n",
       "    </tr>\n",
       "  </tbody>\n",
       "</table>\n",
       "<p>29982701 rows × 7 columns</p>\n",
       "</div>"
      ],
      "text/plain": [
       "         origin destination     hs6   hs4 trade_flow      month  value\n",
       "0           CHN          \\N  030359  0303    Exports 2023-01-01  45000\n",
       "1           CHN          \\N  070310  0703    Exports 2023-01-01   2200\n",
       "2           CHN          \\N  070320  0703    Exports 2023-01-01    600\n",
       "3           CHN          \\N  190230  1902    Exports 2023-01-01  28917\n",
       "4           CHN          \\N  200870  2008    Exports 2023-01-01  11520\n",
       "...         ...         ...     ...   ...        ...        ...    ...\n",
       "29982696    USA         ZWE  880710  8807    Exports 2024-12-01      0\n",
       "29982697    USA         ZWE  901480  9014    Exports 2024-12-01      0\n",
       "29982698    USA         ZWE  901819  9018    Exports 2024-12-01      0\n",
       "29982699    USA         ZWE  902300  9023    Exports 2024-12-01      0\n",
       "29982700    USA         ZWE  902480  9024    Exports 2024-12-01      0\n",
       "\n",
       "[29982701 rows x 7 columns]"
      ]
     },
     "execution_count": 7,
     "metadata": {},
     "output_type": "execute_result"
    }
   ],
   "source": [
    "df_data = pd.read_parquet(\"ForParticipants/csv_data_extracted/harmonized_trade_data.parquet\")\n",
    "df_data.head(-5)"
   ]
  },
  {
   "cell_type": "code",
   "execution_count": 8,
   "metadata": {},
   "outputs": [
    {
     "name": "stdout",
     "output_type": "stream",
     "text": [
      "origin\n",
      "USA    18810770\n",
      "CHN    11171936\n",
      "Name: count, dtype: int64\n"
     ]
    }
   ],
   "source": [
    "print(df_data[\"origin\"].value_counts())"
   ]
  },
  {
   "cell_type": "code",
   "execution_count": 9,
   "metadata": {},
   "outputs": [
    {
     "data": {
      "text/plain": [
       "209878942"
      ]
     },
     "execution_count": 9,
     "metadata": {},
     "output_type": "execute_result"
    }
   ],
   "source": [
    "df_data.size"
   ]
  },
  {
   "cell_type": "code",
   "execution_count": 10,
   "metadata": {},
   "outputs": [
    {
     "name": "stdout",
     "output_type": "stream",
     "text": [
      "destination\n",
      "CAN    940533\n",
      "JPN    806402\n",
      "DEU    756769\n",
      "MEX    750024\n",
      "GBR    710832\n",
      "        ...  \n",
      "ALA        23\n",
      "SGS         7\n",
      "BES         5\n",
      "ATA         4\n",
      "SCG         2\n",
      "Name: count, Length: 253, dtype: int64\n"
     ]
    }
   ],
   "source": [
    "print(df_data[\"destination\"].value_counts())"
   ]
  }
 ],
 "metadata": {
  "kernelspec": {
   "display_name": "env",
   "language": "python",
   "name": "python3"
  },
  "language_info": {
   "codemirror_mode": {
    "name": "ipython",
    "version": 3
   },
   "file_extension": ".py",
   "mimetype": "text/x-python",
   "name": "python",
   "nbconvert_exporter": "python",
   "pygments_lexer": "ipython3",
   "version": "3.9.6"
  }
 },
 "nbformat": 4,
 "nbformat_minor": 2
}
