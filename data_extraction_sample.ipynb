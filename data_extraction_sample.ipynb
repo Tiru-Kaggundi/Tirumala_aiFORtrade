{
 "cells": [
  {
   "cell_type": "code",
   "execution_count": 1,
   "metadata": {},
   "outputs": [],
   "source": [
    "import pandas as pd\n",
    "import os"
   ]
  },
  {
   "cell_type": "code",
   "execution_count": 2,
   "metadata": {},
   "outputs": [],
   "source": [
    "# Set this to the folder where your CSVs are stored\n",
    "DATA_DIR = \"ForParticipants/csv_data_extracted\"\n",
    "\n",
    "# File names\n",
    "FILES = {\n",
    "    'usa_2023': 'trade_s_usa_state_m_hs_2023.csv',\n",
    "    'usa_2024': 'trade_s_usa_state_m_hs_2024.csv',\n",
    "    'chn_2023': 'trade_s_chn_m_hs_2023.csv',\n",
    "    'chn_2024': 'trade_s_chn_m_hs_2024.csv'\n",
    "}\n",
    "\n",
    "# Number of rows to extract for sample\n",
    "SAMPLE_ROWS = 5000"
   ]
  },
  {
   "cell_type": "code",
   "execution_count": 4,
   "metadata": {},
   "outputs": [],
   "source": [
    "SAMPLE_ROWS = 5000\n",
    "\n",
    "def extract_sample(file_path, sample_rows=SAMPLE_ROWS):\n",
    "    chunks = pd.read_csv(\n",
    "        file_path,\n",
    "        chunksize=100000,\n",
    "        dtype=str,\n",
    "        low_memory=False,\n",
    "        on_bad_lines='skip',  # Skips corrupt lines\n",
    "        engine='c'            # Revert to default C engine for chunking\n",
    "    )\n",
    "    \n",
    "    sample = []\n",
    "    total_rows = 0\n",
    "    for chunk in chunks:\n",
    "        sample.append(chunk)\n",
    "        total_rows += len(chunk)\n",
    "        if total_rows >= sample_rows:\n",
    "            break\n",
    "    df_sample = pd.concat(sample).head(sample_rows).reset_index(drop=True)\n",
    "    return df_sample"
   ]
  },
  {
   "cell_type": "code",
   "execution_count": 5,
   "metadata": {},
   "outputs": [
    {
     "name": "stdout",
     "output_type": "stream",
     "text": [
      "Extracting from trade_s_usa_state_m_hs_2023.csv ...\n",
      "Saved sample to samples/sample_usa_2023.csv\n",
      "Extracting from trade_s_usa_state_m_hs_2024.csv ...\n",
      "Saved sample to samples/sample_usa_2024.csv\n",
      "Extracting from trade_s_chn_m_hs_2023.csv ...\n",
      "Saved sample to samples/sample_chn_2023.csv\n",
      "Extracting from trade_s_chn_m_hs_2024.csv ...\n",
      "Saved sample to samples/sample_chn_2024.csv\n"
     ]
    }
   ],
   "source": [
    "# Output directory for sample files\n",
    "os.makedirs(\"samples\", exist_ok=True)\n",
    "\n",
    "# Extract samples\n",
    "for label, filename in FILES.items():\n",
    "    full_path = os.path.join(DATA_DIR, filename)\n",
    "    print(f\"Extracting from {filename} ...\")\n",
    "    df_sample = extract_sample(full_path)\n",
    "    output_file = f\"samples/sample_{label}.csv\"\n",
    "    df_sample.to_csv(output_file, index=False)\n",
    "    print(f\"Saved sample to {output_file}\")"
   ]
  },
  {
   "cell_type": "code",
   "execution_count": 11,
   "metadata": {},
   "outputs": [
    {
     "data": {
      "text/html": [
       "<div>\n",
       "<style scoped>\n",
       "    .dataframe tbody tr th:only-of-type {\n",
       "        vertical-align: middle;\n",
       "    }\n",
       "\n",
       "    .dataframe tbody tr th {\n",
       "        vertical-align: top;\n",
       "    }\n",
       "\n",
       "    .dataframe thead th {\n",
       "        text-align: right;\n",
       "    }\n",
       "</style>\n",
       "<table border=\"1\" class=\"dataframe\">\n",
       "  <thead>\n",
       "    <tr style=\"text-align: right;\">\n",
       "      <th></th>\n",
       "      <th>origin</th>\n",
       "      <th>destination</th>\n",
       "      <th>hs6</th>\n",
       "      <th>hs4</th>\n",
       "      <th>trade_flow</th>\n",
       "      <th>month</th>\n",
       "      <th>value</th>\n",
       "    </tr>\n",
       "  </thead>\n",
       "  <tbody>\n",
       "    <tr>\n",
       "      <th>0</th>\n",
       "      <td>None</td>\n",
       "      <td>JPN</td>\n",
       "      <td>710410</td>\n",
       "      <td>7104</td>\n",
       "      <td>Exports</td>\n",
       "      <td>2023-01-01</td>\n",
       "      <td>646</td>\n",
       "    </tr>\n",
       "    <tr>\n",
       "      <th>1</th>\n",
       "      <td>None</td>\n",
       "      <td>JPN</td>\n",
       "      <td>710491</td>\n",
       "      <td>7104</td>\n",
       "      <td>Exports</td>\n",
       "      <td>2023-01-01</td>\n",
       "      <td>3426</td>\n",
       "    </tr>\n",
       "    <tr>\n",
       "      <th>2</th>\n",
       "      <td>None</td>\n",
       "      <td>JPN</td>\n",
       "      <td>711311</td>\n",
       "      <td>7113</td>\n",
       "      <td>Exports</td>\n",
       "      <td>2023-01-01</td>\n",
       "      <td>26</td>\n",
       "    </tr>\n",
       "    <tr>\n",
       "      <th>3</th>\n",
       "      <td>None</td>\n",
       "      <td>JPN</td>\n",
       "      <td>711419</td>\n",
       "      <td>7114</td>\n",
       "      <td>Exports</td>\n",
       "      <td>2023-01-01</td>\n",
       "      <td>124</td>\n",
       "    </tr>\n",
       "    <tr>\n",
       "      <th>4</th>\n",
       "      <td>None</td>\n",
       "      <td>JPN</td>\n",
       "      <td>711590</td>\n",
       "      <td>7115</td>\n",
       "      <td>Exports</td>\n",
       "      <td>2023-01-01</td>\n",
       "      <td>50</td>\n",
       "    </tr>\n",
       "  </tbody>\n",
       "</table>\n",
       "</div>"
      ],
      "text/plain": [
       "  origin destination     hs6   hs4 trade_flow      month  value\n",
       "0   None         JPN  710410  7104    Exports 2023-01-01    646\n",
       "1   None         JPN  710491  7104    Exports 2023-01-01   3426\n",
       "2   None         JPN  711311  7113    Exports 2023-01-01     26\n",
       "3   None         JPN  711419  7114    Exports 2023-01-01    124\n",
       "4   None         JPN  711590  7115    Exports 2023-01-01     50"
      ]
     },
     "execution_count": 11,
     "metadata": {},
     "output_type": "execute_result"
    }
   ],
   "source": [
    "df_data = pd.read_parquet(\"harmonized_trade_data.parquet\")\n",
    "df_data.head()"
   ]
  },
  {
   "cell_type": "code",
   "execution_count": 9,
   "metadata": {},
   "outputs": [
    {
     "name": "stdout",
     "output_type": "stream",
     "text": [
      "Series([], Name: count, dtype: int64)\n"
     ]
    }
   ],
   "source": [
    "print(df_data[\"origin\"].value_counts())"
   ]
  },
  {
   "cell_type": "code",
   "execution_count": 12,
   "metadata": {},
   "outputs": [
    {
     "data": {
      "text/plain": [
       "585775904"
      ]
     },
     "execution_count": 12,
     "metadata": {},
     "output_type": "execute_result"
    }
   ],
   "source": [
    "df_data.size"
   ]
  },
  {
   "cell_type": "code",
   "execution_count": null,
   "metadata": {},
   "outputs": [],
   "source": []
  }
 ],
 "metadata": {
  "kernelspec": {
   "display_name": "Python 3",
   "language": "python",
   "name": "python3"
  },
  "language_info": {
   "codemirror_mode": {
    "name": "ipython",
    "version": 3
   },
   "file_extension": ".py",
   "mimetype": "text/x-python",
   "name": "python",
   "nbconvert_exporter": "python",
   "pygments_lexer": "ipython3",
   "version": "3.9.6"
  }
 },
 "nbformat": 4,
 "nbformat_minor": 2
}
